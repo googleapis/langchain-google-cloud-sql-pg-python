{
 "nbformat": 4,
 "nbformat_minor": 0,
 "metadata": {
  "colab": {
   "provenance": []
  },
  "kernelspec": {
   "name": "python3",
   "display_name": "Python 3 (ipykernel)",
   "language": "python"
  },
  "language_info": {
   "name": "python"
  }
 },
 "cells": [
  {
   "cell_type": "markdown",
   "source": [
    "# Google Cloud SQL for PostgreSQL\n",
    "\n",
    "> [Cloud SQL](https://cloud.google.com/sql) is a fully managed relational database service that offers high performance, seamless integration, and impressive scalability. It offers MySQL, PostgreSQL, and SQL Server database engines. Extend your database application to build AI-powered experiences leveraging Cloud SQL's Langchain integrations.\n",
    "\n",
    "This notebook goes over how to use `Cloud SQL for PostgreSQL` to store checkpoints with the PostgresSaver class.\n",
    "\n",
    "Learn more about the package on [GitHub](https://github.com/googleapis/langchain-google-cloud-sql-pg-python/).\n",
    "\n",
    "[![Open In Colab](https://colab.research.google.com/assets/colab-badge.svg)](https://colab.research.google.com/github/googleapis/langchain-google-cloud-sql-pg-python/blob/main/docs/chat_message_history.ipynb)"
   ],
   "metadata": {
    "id": "xHq_1Zh8TfCz"
   }
  },
  {
   "cell_type": "markdown",
   "source": [
    "## Before You Begin\n",
    "\n",
    "To run this notebook, you will need to do the following:\n",
    "\n",
    " * [Create a Google Cloud Project](https://developers.google.com/workspace/guides/create-project)\n",
    " * [Enable the Cloud SQL Admin API.](https://console.cloud.google.com/marketplace/product/google/sqladmin.googleapis.com)\n",
    " * [Create a Cloud SQL for PostgreSQL instance](https://cloud.google.com/sql/docs/postgres/create-instance)\n",
    " * [Create a Cloud SQL database](https://cloud.google.com/sql/docs/mysql/create-manage-databases)\n",
    " * [Add an IAM database user to the database](https://cloud.google.com/sql/docs/postgres/add-manage-iam-users#creating-a-database-user) (Optional)\n"
   ],
   "metadata": {
    "id": "5NW0xqHRToAM"
   }
  },
  {
   "cell_type": "markdown",
   "source": [
    "### 🦜🔗 Library Installation\n",
    "The integration lives in its own `langchain-google-cloud-sql-pg` package, so we need to install it."
   ],
   "metadata": {
    "id": "Owc-OZpOT0Jy"
   }
  },
  {
   "metadata": {
    "colab": {
     "base_uri": "https://localhost:8080/"
    },
    "id": "TpNTWLbZT1Dw",
    "outputId": "a54015ba-0281-4955-e9e0-36d3125c4887"
   },
   "cell_type": "code",
   "source": "%pip install --upgrade --quiet langchain-google-cloud-sql-pg langchain-google-vertexai",
   "outputs": [],
   "execution_count": null
  },
  {
   "metadata": {},
   "cell_type": "markdown",
   "source": "**Colab only:** Uncomment the following cell to restart the kernel or use the button to restart the kernel. For Vertex AI Workbench you can restart the terminal using the button on top."
  },
  {
   "cell_type": "code",
   "source": [
    "# # Automatically restart kernel after installs so that your environment can access the new packages\n",
    "# import IPython\n",
    "#\n",
    "# app = IPython.Application.instance()\n",
    "# app.kernel.do_shutdown(True)"
   ],
   "metadata": {
    "id": "OQrizsZGT4xx"
   },
   "outputs": [],
   "execution_count": null
  },
  {
   "cell_type": "markdown",
   "source": [
    "### 🔐 Authentication\n",
    "Authenticate to Google Cloud as the IAM user logged into this notebook in order to access your Google Cloud Project.\n",
    "\n",
    "* If you are using Colab to run this notebook, use the cell below and continue.\n",
    "* If you are using Vertex AI Workbench, check out the setup instructions [here](https://github.com/GoogleCloudPlatform/generative-ai/tree/main/setup-env)."
   ],
   "metadata": {
    "id": "XpCaEQgvUPBQ"
   }
  },
  {
   "cell_type": "code",
   "source": [
    "from google.colab import auth\n",
    "\n",
    "auth.authenticate_user()"
   ],
   "metadata": {
    "id": "WvydoWCKUOlM"
   },
   "outputs": [],
   "execution_count": null
  },
  {
   "cell_type": "markdown",
   "source": [
    "### ☁ Set Your Google Cloud Project\n",
    "Set your Google Cloud project so that you can leverage Google Cloud resources within this notebook.\n",
    "\n",
    "If you don't know your project ID, try the following:\n",
    "\n",
    "* Run `gcloud config list`.\n",
    "* Run `gcloud projects list`.\n",
    "* See the support page: [Locate the project ID](https://support.google.com/googleapi/answer/7014113)."
   ],
   "metadata": {
    "id": "nNK4c-n-Umq9"
   }
  },
  {
   "cell_type": "code",
   "source": [
    "# @markdown Please fill in the value below with your Google Cloud project ID and then run the cell.\n",
    "\n",
    "PROJECT_ID = \"my-project-id\"  # @param {type:\"string\"}\n",
    "\n",
    "# Set the project id\n",
    "!gcloud config set project {PROJECT_ID}"
   ],
   "metadata": {
    "colab": {
     "base_uri": "https://localhost:8080/"
    },
    "id": "5pCxbzAGUP9p",
    "outputId": "625f4fea-75a7-41ad-fef0-96467df9f41b"
   },
   "outputs": [],
   "execution_count": null
  },
  {
   "cell_type": "markdown",
   "source": [
    "### 💡 API Enablement\n",
    "The `langchain-google-cloud-sql-pg` package requires that you [enable the Cloud SQL Admin API](https://console.cloud.google.com/flows/enableapi?apiid=sqladmin.googleapis.com) in your Google Cloud Project."
   ],
   "metadata": {
    "id": "sfN2P8EkUydF"
   }
  },
  {
   "cell_type": "code",
   "source": [
    "# enable Cloud SQL Admin API\n",
    "!gcloud services enable sqladmin.googleapis.com"
   ],
   "metadata": {
    "colab": {
     "base_uri": "https://localhost:8080/"
    },
    "id": "HS5OmGusUnP4",
    "outputId": "952fdfd9-279f-4246-83a7-bc35793869f2"
   },
   "outputs": [],
   "execution_count": null
  },
  {
   "cell_type": "markdown",
   "source": [
    "## Basic Usage"
   ],
   "metadata": {
    "id": "j6Sd_BIHU_cV"
   }
  },
  {
   "cell_type": "markdown",
   "source": [
    "### Set Cloud SQL database values\n",
    "Find your database values, in the [Cloud SQL Instances page](https://console.cloud.google.com/sql?_ga=2.223735448.2062268965.1707700487-2088871159.1707257687)."
   ],
   "metadata": {
    "id": "Kd3WmpRRVGJH"
   }
  },
  {
   "cell_type": "code",
   "source": [
    "# @title Set Your Values Here { display-mode: \"form\" }\n",
    "REGION = \"us-central1\"  # @param {type: \"string\"}\n",
    "INSTANCE = \"my-postgresql-instance\"  # @param {type: \"string\"}\n",
    "DATABASE = \"my-database\"  # @param {type: \"string\"}\n",
    "TABLE_NAME = \"checkpoint\"  # @param {type: \"string\"}"
   ],
   "metadata": {
    "id": "ASWTYxvGUzfR"
   },
   "outputs": [],
   "execution_count": null
  },
  {
   "cell_type": "markdown",
   "source": [
    "### PostgresEngine Connection Pool\n",
    "\n",
    "One of the requirements and arguments to establish Cloud SQL as a PostgresSaver is a `PostgresEngine` object. The `PostgresEngine`  configures a connection pool to your Cloud SQL database, enabling successful connections from your application and following industry best practices.\n",
    "\n",
    "To create a `PostgresEngine` using `PostgresEngine.from_instance()` you need to provide only 4 things:\n",
    "\n",
    "1.   `project_id` : Project ID of the Google Cloud Project where the Cloud SQL instance is located.\n",
    "1. `region` : Region where the Cloud SQL instance is located.\n",
    "1. `instance` : The name of the Cloud SQL instance.\n",
    "1. `database` : The name of the database to connect to on the Cloud SQL instance.\n",
    "\n",
    "By default, [IAM database authentication](https://cloud.google.com/sql/docs/postgres/iam-authentication#iam-db-auth) will be used as the method of database authentication. This library uses the IAM principal belonging to the [Application Default Credentials (ADC)](https://cloud.google.com/docs/authentication/application-default-credentials) sourced from the envionment.\n",
    "\n",
    "For more informatin on IAM database authentication please see:\n",
    "* [Configure an instance for IAM database authentication](https://cloud.google.com/sql/docs/postgres/create-edit-iam-instances)\n",
    "* [Manage users with IAM database authentication](https://cloud.google.com/sql/docs/postgres/add-manage-iam-users)\n",
    "\n",
    "Optionally, [built-in database authentication](https://cloud.google.com/sql/docs/postgres/built-in-authentication) using a username and password to access the Cloud SQL database can also be used. Just provide the optional `user` and `password` arguments to `PostgresEngine.from_instance()`:\n",
    "\n",
    "* `user` : Database user to use for built-in database authentication and login\n",
    "* `password` : Database password to use for built-in database authentication and login."
   ],
   "metadata": {
    "id": "5noUSRjIVtlO"
   }
  },
  {
   "cell_type": "code",
   "source": [
    "from langchain_google_cloud_sql_pg import PostgresEngine\n",
    "\n",
    "engine = PostgresEngine.from_instance(\n",
    "    project_id=PROJECT_ID, region=REGION, instance=INSTANCE, database=DATABASE\n",
    ")"
   ],
   "metadata": {
    "id": "uYh8ulGNVAus"
   },
   "outputs": [],
   "execution_count": null
  },
  {
   "metadata": {},
   "cell_type": "markdown",
   "source": [
    "### Initialize a table\n",
    "The `PostgresSaver` class requires a database table with a specific schema in order to store the persist LangGraph agents state.\n",
    "\n",
    "The `PostgresEngine` engine has a helper method `init_checkpoint_table()` that can be used to create a table with the proper schema for you."
   ]
  },
  {
   "metadata": {},
   "cell_type": "code",
   "source": "engine.init_checkpoint_table(table_name=TABLE_NAME)",
   "outputs": [],
   "execution_count": null
  },
  {
   "metadata": {},
   "cell_type": "markdown",
   "source": [
    "#### Optional Tip: 💡\n",
    "You can also specify a schema name by passing `schema_name` wherever you pass `table_name`. Eg:\n",
    "\n",
    "```python\n",
    "SCHEMA_NAME=\"my_schema\"\n",
    "\n",
    "engine.init_chat_history_table(\n",
    "    table_name=TABLE_NAME,\n",
    "    schema_name=SCHEMA_NAME     # Default: \"public\"\n",
    ")\n",
    "```"
   ]
  },
  {
   "metadata": {},
   "cell_type": "markdown",
   "source": [
    "### PostgresSaver\n",
    "\n",
    "To initialize the `PostgresSaver` class you need to provide only 3 things:\n",
    "\n",
    "1. `engine` - An instance of a `PostgresEngine` engine.\n",
    "2. `table_name` : The name of the table within the Cloud SQL database to store the checkpoints (Default: \"checkpoints\").\n",
    "3. `schema_name` : The name of the database schema containing the checkpoints table (Default: \"public\")\n",
    "4. `serde`: Serializer for encoding/decoding checkpoints (Default: None)\n"
   ]
  },
  {
   "metadata": {},
   "cell_type": "code",
   "source": [
    "from langchain_google_cloud_sql_pg import PostgresSaver\n",
    "\n",
    "checkpointer = PostgresSaver.create_sync(\n",
    "        engine,\n",
    "        table_name = TABLE_NAME\n",
    "    )\n",
    "\n",
    "write_config =  {\"configurable\": {\"thread_id\": \"1\", \"checkpoint_ns\": \"\"}}\n",
    "read_config = {\"configurable\": {\"thread_id\": \"1\"}}\n",
    "\n",
    "checkpoint = {\n",
    "        \"v\": 1,\n",
    "        \"ts\": \"2024-07-31T20:14:19.804150+00:00\",\n",
    "        \"id\": \"1ef4f797-8335-6428-8001-8a1503f9b875\",\n",
    "        \"channel_values\": {\n",
    "            \"my_key\": \"meow\",\n",
    "            \"node\": \"node\"\n",
    "        },\n",
    "        \"channel_versions\": {\n",
    "            \"__start__\": 2,\n",
    "            \"my_key\": 3,\n",
    "            \"start:node\": 3,\n",
    "            \"node\": 3\n",
    "        },\n",
    "        \"versions_seen\": {\n",
    "            \"__input__\": {},\n",
    "            \"__start__\": {\n",
    "            \"__start__\": 1\n",
    "            },\n",
    "            \"node\": {\n",
    "            \"start:node\": 2\n",
    "            }\n",
    "        },\n",
    "        \"pending_sends\": [],\n",
    "    }\n",
    "\n",
    "# store checkpoint\n",
    "checkpointer.put(write_config, checkpoint, {}, {})\n",
    "# load checkpoint\n",
    "checkpointer.get(read_config)"
   ],
   "outputs": [],
   "execution_count": null
  },
  {
   "metadata": {},
   "cell_type": "markdown",
   "source": "## 🔗 Adding persistence to the pre-built create react agent"
  },
  {
   "metadata": {},
   "cell_type": "markdown",
   "source": [
    "### 🔧 Setup\n",
    "\n",
    "Before running the project, ensure you configure the necessary environment variables properly.\n",
    "\n",
    "#### Setting Up Environment Variables\n",
    "\n",
    "\n",
    "## Up LangSmith for LangGraph Development**\n",
    "\n",
    "\n"
   ]
  },
  {
   "metadata": {},
   "cell_type": "code",
   "source": [
    "import getpass\n",
    "import os\n",
    "\n",
    "def _set_env(var: str):\n",
    "    \"\"\"Prompts the user for an environment variable if not already set.\"\"\"\n",
    "    if not os.environ.get(var):\n",
    "        os.environ[var] = getpass.getpass(f\"{var}: \")\n",
    "\n",
    "# Set OpenAI API key\n",
    "_set_env(\"OPENAI_API_KEY\")\n"
   ],
   "outputs": [],
   "execution_count": null
  },
  {
   "metadata": {},
   "cell_type": "markdown",
   "source": [
    "[LangSmith](https://docs.langsmith.com/) is a tool designed to identify issues and improve the performance of LangGraph-based projects.\n",
    "\n",
    "### **Getting Started with LangSmith**\n",
    "\n",
    "1. **Sign up for LangSmith**: If you haven't already, create an account at [LangSmith](https://smith.langchain.com/).\n",
    "2. **Set up LangSmith** in your development environment.\n",
    "3. **Integrate LangSmith into your code** to enable trace collection and analysis.\n",
    "\n",
    "For detailed instructions, refer to the [official LangSmith documentation](https://docs.langsmith.com/)."
   ]
  },
  {
   "metadata": {},
   "cell_type": "code",
   "source": [
    "from typing import Literal\n",
    "\n",
    "from langchain_core.tools import tool\n",
    "from langchain_openai import ChatOpenAI\n",
    "from langgraph.prebuilt import create_react_agent\n",
    "\n",
    "\n",
    "@tool\n",
    "def get_weather(city: Literal[\"nyc\", \"sf\"]):\n",
    "    \"\"\"Use this to get weather information.\"\"\"\n",
    "    if city == \"nyc\":\n",
    "        return \"It might be cloudy in nyc\"\n",
    "    elif city == \"sf\":\n",
    "        return \"It's always sunny in sf\"\n",
    "    else:\n",
    "        raise AssertionError(\"Unknown city\")\n",
    "\n",
    "\n",
    "tools = [get_weather]\n",
    "model = ChatOpenAI(model_name=\"gpt-4o-mini\", temperature=0)\n",
    "\n",
    "graph = create_react_agent(model, tools=tools, checkpointer=checkpointer)\n",
    "config = {\"configurable\": {\"thread_id\": \"2\"}}\n",
    "res = graph.invoke({\"messages\": [(\"human\", \"what's the weather in sf\")]}, config)\n",
    "checkpoint = checkpointer.get(config)"
   ],
   "outputs": [],
   "execution_count": null
  },
  {
   "metadata": {},
   "cell_type": "code",
   "source": "res",
   "outputs": [],
   "execution_count": null
  },
  {
   "metadata": {},
   "cell_type": "code",
   "source": "checkpoint",
   "outputs": [],
   "execution_count": null
  }
 ]
}
