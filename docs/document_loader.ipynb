{
 "cells": [
  {
   "cell_type": "markdown",
   "metadata": {
    "id": "E_RJy7C1bpCT"
   },
   "source": [
    "# PostgreSQLLoader\n",
    "> **PostgreSQLLoader**:\n",
    "PostgreSQLLoader lets you load data from Cloud SQL for PostgreSQL database as Langchain Documents. This tool also provides a PostgreSQLDocumentSaver Class to save Langchain Documents back into Cloud SQL for PostgreSQL database\n",
    "\n",
    "This tutorial illustrates how to work with an end-to-end data Document Loader and Document Saver system in LangChain for CloudSQL for PostgreSQL."
   ]
  },
  {
   "cell_type": "markdown",
   "metadata": {
    "id": "xjcxaw6--Xyy"
   },
   "source": [
    "## Pre-requisites"
   ]
  },
  {
   "cell_type": "markdown",
   "metadata": {
    "id": "IR54BmgvdHT_"
   },
   "source": [
    "### Install the library"
   ]
  },
  {
   "cell_type": "code",
   "execution_count": null,
   "metadata": {
    "colab": {
     "base_uri": "https://localhost:8080/",
     "height": 1000
    },
    "id": "0ZITIDE160OD",
    "outputId": "90e0636e-ff34-4e1e-ad37-d2a6db4a317e"
   },
   "outputs": [],
   "source": [
    "! pip install langchain langchain-community google-cloud asyncio asyncpg langchain_google_cloud_sql_pg\n",
    "! pip install \"cloud-sql-python-connector[asyncpg]\""
   ]
  },
  {
   "cell_type": "markdown",
   "metadata": {
    "id": "v40bB_GMcr9f"
   },
   "source": [
    ":**Colab only:** Uncomment the following cell to restart the kernel or use the button to restart the kernel. For Vertex AI Workbench you can restart the terminal using the button on top."
   ]
  },
  {
   "cell_type": "code",
   "execution_count": null,
   "metadata": {
    "id": "6o0iGVIdDD6K"
   },
   "outputs": [],
   "source": [
    "# # Automatically restart kernel after installs so that your environment can access the new packages\n",
    "# import IPython\n",
    "\n",
    "# app = IPython.Application.instance()\n",
    "# app.kernel.do_shutdown(True)"
   ]
  },
  {
   "cell_type": "markdown",
   "metadata": {
    "id": "cTXTbj4UltKf"
   },
   "source": [
    "### Note\n",
    "\n",
    "`If you do not have a GCP project, please follow the below link to create a new project`\n",
    "\n",
    "[Create a Google Cloud project](https://developers.google.com/workspace/guides/create-project)\n"
   ]
  },
  {
   "cell_type": "markdown",
   "metadata": {
    "id": "Uj02bMRAc9_c"
   },
   "source": [
    "#### Set your project ID\n",
    "\n",
    "If you don't know your project ID, try the following:\n",
    "* Run `gcloud config list`.\n",
    "* Run `gcloud projects list`.\n",
    "* See the support page: [Locate the project ID](https://support.google.com/googleapi/answer/7014113)."
   ]
  },
  {
   "cell_type": "code",
   "execution_count": null,
   "metadata": {
    "colab": {
     "base_uri": "https://localhost:8080/"
    },
    "id": "wnp1R1PYc9_c",
    "outputId": "6502c721-a2fd-451f-b946-9f7b850d5966"
   },
   "outputs": [],
   "source": [
    "# @title Project { display-mode: \"form\" }\n",
    "PROJECT_ID = \"gcp_project_id\"  # @param {type:\"string\"}\n",
    "\n",
    "# Set the project id\n",
    "! gcloud config set project {PROJECT_ID}"
   ]
  },
  {
   "cell_type": "markdown",
   "metadata": {
    "id": "38OFiUrIc9_c"
   },
   "source": [
    "#### Set the region\n",
    "\n",
    "You can also change the `REGION` variable used by CloudSQL Postgres. Learn more about [CloudSQL Postgres regions](https://cloud.google.com/sql/docs/postgres/locations)."
   ]
  },
  {
   "cell_type": "code",
   "execution_count": null,
   "metadata": {
    "id": "DWQxsk80c9_d"
   },
   "outputs": [],
   "source": [
    "# @title Region { display-mode: \"form\" }\n",
    "REGION = \"US\"  # @param {type: \"string\"}"
   ]
  },
  {
   "cell_type": "markdown",
   "metadata": {
    "id": "aG5_tNwHc9_d"
   },
   "source": [
    "#### Set the dataset and table names\n",
    "\n",
    "They will be your CloudSQL Postgres Document Table"
   ]
  },
  {
   "cell_type": "code",
   "execution_count": null,
   "metadata": {
    "id": "F8gPQnbDc9_d"
   },
   "outputs": [],
   "source": [
    "# @title Instance,  Database and Table { display-mode: \"form\" }\n",
    "INSTANCE = \"my_cloudsql_instance\" # @param {type: \"string\"}\n",
    "DATABASE = \"my_langchain_database\"  # @param {type: \"string\"}\n",
    "TABLE = \"doc_table\"  # @param {type: \"string\"}"
   ]
  },
  {
   "cell_type": "markdown",
   "metadata": {
    "id": "W6wxYasx_EKB"
   },
   "source": [
    "### Pre-requisites for connecting to the CloudSQL instance\n",
    "\n",
    "To connect to the postgreSQL instance make sure to setup the cloudSQL auth proxy and ensure the addition of IAM users to the list of authenticated users to connect to the instance.\n",
    "\n",
    "Refer to this [link](https://github.com/GoogleCloudPlatform/cloud-sql-proxy) to setup auth proxy.\n",
    "\n",
    "Refer to this [link](https://cloud.google.com/sql/docs/postgres/users?_ga=2.165429503.-1722697531.1694071937) to add users to the instance"
   ]
  },
  {
   "cell_type": "markdown",
   "metadata": {
    "id": "w7JEEj49c9_d"
   },
   "source": [
    "### Authenticating your notebook environment\n",
    "\n",
    "- If you are using **Colab** to run this notebook, uncomment the cell below and continue.\n",
    "- If you are using **Vertex AI Workbench**, check out the setup instructions [here](https://github.com/GoogleCloudPlatform/generative-ai/tree/main/setup-env)."
   ]
  },
  {
   "cell_type": "code",
   "execution_count": null,
   "metadata": {
    "id": "1JZmXFavc9_d"
   },
   "outputs": [],
   "source": [
    "from google.colab import auth as google_auth\n",
    "\n",
    "google_auth.authenticate_user()"
   ]
  },
  {
   "cell_type": "markdown",
   "metadata": {
    "id": "xjcxaw6--Xyy"
   },
   "source": [
    "## PostgreSQLLoader Class Sample\n",
    "PostgreSQL Loader Class"
   ]
  },
  {
   "cell_type": "markdown",
   "metadata": {
    "id": "vMi7sXhtc9_e"
   },
   "source": [
    "### Import PostgreSQL Loader Class [instance](https://)"
   ]
  },
  {
   "cell_type": "code",
   "execution_count": null,
   "metadata": {},
   "outputs": [],
   "source": [
    "from langchain_google_cloud_sql_pg import PostgreSQLLoader, PostgreSQLDocumentSaver, PostgreSQLEngine"
   ]
  },
  {
   "cell_type": "markdown",
   "metadata": {
    "id": "D9Xs2qhm6X56"
   },
   "source": [
    "### Create PostgreSQLEngine class to connect to the database"
   ]
  },
  {
   "cell_type": "code",
   "execution_count": null,
   "metadata": {
    "id": "avlyHEMn6gzU"
   },
   "outputs": [],
   "source": [
    "# PostgreSQLLoader requires an engine created using the CloudSQLEngine class\n",
    "engine = PostgreSQLEngine.from_instance(\n",
    "    region = \"region_name\",\n",
    "    instance = \"instance_name\",\n",
    "    database = \"dbname\"\n",
    ")"
   ]
  },
  {
   "cell_type": "markdown",
   "metadata": {
    "id": "e1tl0aNx7SWy"
   },
   "source": [
    "### Create PostgreSQLLoader to create a table"
   ]
  },
  {
   "cell_type": "code",
   "execution_count": null,
   "metadata": {
    "id": "z-AZyzAQ7bsf"
   },
   "outputs": [],
   "source": [
    "# Creating a basic PostgreSQLLoader object\n",
    "loader = PostgreSQLLoader(\n",
    "    engine,\n",
    "    table_name=table_name,\n",
    "    query=query,\n",
    "    content_columns=content_columns,\n",
    "    metadata_columns=metadata_columns,\n",
    "    format=format,\n",
    "    read_only=read_only,\n",
    "    time_out=time_out,\n",
    "    formatter=formatter,\n",
    ")\n",
    "\n",
    "# Parameters:\n",
    "# engine - a PostgreSQL Engine object used to connect to the database\n",
    "# table_name - (Optional) the table name (OneOf: table_name, query)\n",
    "# query - (Optional) a SQL query (OneOf: table_name, query)\n",
    "# content_columns - list of column(s) or field(s) to use for a Document’s pagecontent. Page content is the default field for embeddings generation. (Default:“page_content”)\n",
    "# metadata_columns - list of column(s) or field(s) to use for metadata. (Default:“langchain_metadata”)\n",
    "# format - set the format of page content if using multiple columns or fields. (Default:“text” space separated string concatenation) Other format: JSON, YAML, CSV, etc.\n",
    "# read_only - Prevent queries that write to the database (default: True)\n",
    "# timeout - specify a timeout for the client in seconds\n",
    "# fomatter - a custom formatter object"
   ]
  },
  {
   "cell_type": "markdown",
   "metadata": {
    "id": "PeOMpftjc9_e"
   },
   "source": [
    "### Load Documents via default table\n",
    "The loader returns a list of Documents from the table using the first column as page_content and all other columns as metadata. The default table will have the first column as\n",
    "page_content and the second column as metadata (JSON). Each row becomes a document."
   ]
  },
  {
   "cell_type": "code",
   "execution_count": null,
   "metadata": {
    "id": "cwvi_O5Wc9_e"
   },
   "outputs": [],
   "source": [
    "loader = PostgreSQLLoader(\n",
    "     engine,\n",
    "     table_name=\"my-docs-table\" \n",
    "   )\n",
    "docs = loader.load()\n",
    "# or lazy load in async contenct\n",
    "docs = loader.alazy_load()\n",
    "## [Document(page_content=\"...\", metadata={...}), ...]"
   ]
  },
  {
   "cell_type": "markdown",
   "metadata": {
    "id": "kSkL9l1Hc9_e"
   },
   "source": [
    "### Load documents via custom table/metadata or custom page content columns\n",
    "The loader returns a list of Documents from the table using the first column as page_content and all other columns as metadata. \n",
    "If content_columns are provided, then all colums specified will be loaded into page_content separated by \" \" and all other columns as metadata\n",
    "If a JSON column is listed as a metadata column with the name, “langchain_metadata”, it will be used as the base dictionary. Other column data will be added and may overwrite the original value. Each row becomes a document."
   ]
  },
  {
   "cell_type": "code",
   "execution_count": null,
   "metadata": {},
   "outputs": [],
   "source": [
    "loader = PostgreSQLLoader(\n",
    "    engine,\n",
    "    table_name=\"my-docs-table\"\n",
    "    content_columns=[\"product_name\"] # Optional\n",
    "    metadata_columns=[\"id\"] # Optional\n",
    "   )\n",
    "docs = loader.alazy_load()\n",
    "   ## [Document(page_content=\"...\", metadata={...}), ...]"
   ]
  },
  {
   "cell_type": "markdown",
   "metadata": {
    "id": "kSkL9l1Hc9_e"
   },
   "source": [
    "### Set page content format\n",
    "\n",
    "The loader returns a list of Documents, one document per row, where page content defaults to the first columns present in the query and metadata defaults to all other columns. Use with content_columns to overwrite the column used for page content. Use metadata_columns to select specific metadata columns rather than using all remaining columns.\n",
    "If content_columns are provided, then all colums specified will be loaded into page_content separated by \" \" and all other columns as metadata\n",
    "If a JSON column is listed as a metadata column with the name, “langchain_metadata”, it will be used as the base dictionary. Other column data will be added and may overwrite the original value. Each row becomes a document."
   ]
  },
  {
   "cell_type": "code",
   "execution_count": null,
   "metadata": {
    "id": "Q4pCL2I_c9_f"
   },
   "outputs": [],
   "source": [
    "# Used with \"SELECT *\" query\n",
    "loader = PostgreSQLLoader(\n",
    "     engine,\n",
    "     query=\"SELECT * FROM products\",\n",
    "   )\n",
    "docs = loader.alazy_load()\n",
    "## Example doc: Document(page_content=\"123\",\n",
    "metadata={\"product_name\":\"cards\",price=10,\"category\":\"toys\"})\n",
    "# Used with specific columns\n",
    "loader = PostgreSQLLoader(\n",
    "     engine,\n",
    "     query=\"SELECT product_name, description FROM products\",\n",
    ")\n",
    "docs = loader.alazy_load()\n",
    "## Example doc: Document(page_content=\"cards\", metadata={\"description\": \"playing cards are cool!\"})\n",
    "# Used with content_columns argument"
   ]
  },
  {
   "cell_type": "markdown",
   "metadata": {
    "id": "5R6h0_Cvc9_f"
   },
   "source": [
    "### Set page content format\n",
    "The loader returns a list of Documents, with one document per row, with page content in speci\u0000ed string format, i.e. text (space separated concatenation), JSON, YAML, CSV, etc. JSON and YAML formats include headers, while text and CSV do not include field headers.\n"
   ]
  },
  {
   "cell_type": "code",
   "execution_count": null,
   "metadata": {
    "id": "NGNdS7cqc9_f"
   },
   "outputs": [],
   "source": [
    "loader = PostgreSQLLoader(\n",
    "     engine,\n",
    "     table_name=\"products\",\n",
    "     content_columns=[\"product_name\", \"description\"],\n",
    "     format=\"YAML\"\n",
    ")\n",
    "## Example doc: Document(page_content=\"product_name: cards\\ndescription: playing cards are cool!\", metadata={})\n"
   ]
  },
  {
   "cell_type": "markdown",
   "metadata": {
    "id": "yKw_Lab-c9_f"
   },
   "source": [
    "### Use custom page content formatter\n",
    "Instead of using one of the built-in page content formats, the user can provide their own function for generating a custom string format."
   ]
  },
  {
   "cell_type": "code",
   "execution_count": null,
   "metadata": {
    "id": "uyYDfbMKc9_f"
   },
   "outputs": [],
   "source": [
    "# Define a custom format function\n",
    "   def my_formatter(**kwargs):\n",
    "          return '-'.join(kwargs.values())\n",
    "       \n",
    "loader = PostgreSQLLoader(\n",
    "     engine,\n",
    "     table_name=\"products\",\n",
    "     content_columns=[\"product_name\", \"description\"],\n",
    "     formatter=my_formatter\n",
    ")\n",
    "## Example doc: Document(page_content=\"cards-playing cards are cool!\", metadata={})\n"
   ]
  },
  {
   "cell_type": "markdown",
   "metadata": {
    "id": "IPhxeqGr7sOS"
   },
   "source": [
    "### Set timeout for query and Read only query protection\n",
    "Using the table_name field over the query field will automatically get read only protection. This defaults to True.\n",
    "Set timeout for the loader. This may be helpful for large datasets.\n"
   ]
  },
  {
   "cell_type": "code",
   "execution_count": null,
   "metadata": {
    "id": "zmnGOrTT71BF"
   },
   "outputs": [],
   "source": [
    "loader = PostgreSQLLoader(\n",
    "     engine,\n",
    "     query=\"SELECT * FROM products\",\n",
    "     timeout=30s,\n",
    "     read_only=False, # Use to change the default to False\n",
    "   )"
   ]
  },
  {
   "cell_type": "markdown",
   "metadata": {
    "id": "xjcxaw6--Xyy"
   },
   "source": [
    "## PostgreSQLDocumentSaver Class Sample\n",
    "This class allows for saving of pre-processed documents. This table can easily be loaded via a Document Loader or updated to be a VectorStore."
   ]
  },
  {
   "cell_type": "code",
   "execution_count": 3,
   "metadata": {},
   "outputs": [],
   "source": [
    "### Follow the PostgreSQL Engine creation as in the above example"
   ]
  },
  {
   "cell_type": "markdown",
   "metadata": {
    "id": "IPhxeqGr7sOS"
   },
   "source": [
    "### Add Documents\n",
    "Save documents in the DocumentSaver table. See Defaults for the table schema. Document’s metadata is added to columns if found or stored in langchain_metadata JSON column."
   ]
  },
  {
   "cell_type": "code",
   "execution_count": null,
   "metadata": {},
   "outputs": [],
   "source": [
    "saver = PostgreSQLDocumentSaver(engine, table_name)\n",
    "saver.aadd_documents(docs)"
   ]
  },
  {
   "cell_type": "markdown",
   "metadata": {
    "id": "IPhxeqGr7sOS"
   },
   "source": [
    "### Delete Documents\n",
    "Delete all instances of a document from the DocumentSaver table by matching the entire Document object."
   ]
  },
  {
   "cell_type": "code",
   "execution_count": null,
   "metadata": {},
   "outputs": [],
   "source": [
    "# Load the doc\n",
    "loader = PostgreSQLDocumentSaver(engine, \"SELECT * FROM table_name WHERE page_content =='cards'\")\n",
    "docs = loader.alazy_load()\n",
    "# Init saver and delete\n",
    "saver = PostgreSQLDocumentSaver(engine, table_name)\n",
    "saver.adelete(docs)"
   ]
  }
 ],
 "metadata": {
  "colab": {
   "provenance": [],
   "toc_visible": true
  },
  "kernelspec": {
   "display_name": "Python 3 (ipykernel)",
   "language": "python",
   "name": "python3"
  },
  "language_info": {
   "codemirror_mode": {
    "name": "ipython",
    "version": 3
   },
   "file_extension": ".py",
   "mimetype": "text/x-python",
   "name": "python",
   "nbconvert_exporter": "python",
   "pygments_lexer": "ipython3",
   "version": "3.9.6"
  }
 },
 "nbformat": 4,
 "nbformat_minor": 4
}
