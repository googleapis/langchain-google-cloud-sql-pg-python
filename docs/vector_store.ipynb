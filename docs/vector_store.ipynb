{
    "cells": [
        {
            "cell_type": "markdown",
            "metadata": {},
            "source": [
                "# Cloud SQL for PostgreSQL\n",
                "\n",
                "> [Cloud SQL](https://cloud.google.com/sql/docs/postgres) is a fully managed relational database service for PostgreSQL. This frees you from database administration tasks so that you have more time to manage your data.\n",
                "\n",
                "This tutorial illustrates how to work with an end-to-end data and embedding management system in LangChain, and provide scalable semantic search in CloudSQL for PostgreSQL."
            ]
        },
        {
            "cell_type": "markdown",
            "metadata": {
                "id": "EmPJkpOCckyh"
            },
            "source": [
                "## Getting started\n"
            ]
        },
        {
            "cell_type": "markdown",
            "metadata": {
                "id": "IR54BmgvdHT_"
            },
            "source": [
                "### Install the library"
            ]
        },
        {
            "cell_type": "code",
            "execution_count": null,
            "metadata": {
                "colab": {
                    "base_uri": "https://localhost:8080/",
                    "height": 1000
                },
                "id": "0ZITIDE160OD",
                "outputId": "e184bc0d-6541-4e0a-82d2-1e216db00a2d"
            },
            "outputs": [],
            "source": [
                "%pip install --upgrade --quiet  langchain-google-cloud-sql-pg langchain langchain-google-vertexai"
            ]
        },
        {
            "cell_type": "markdown",
            "metadata": {
                "id": "v40bB_GMcr9f"
            },
            "source": [
                "**Colab only:** Uncomment the following cell to restart the kernel or use the button to restart the kernel. For Vertex AI Workbench you can restart the terminal using the button on top."
            ]
        },
        {
            "cell_type": "code",
            "execution_count": null,
            "metadata": {
                "id": "6o0iGVIdDD6K"
            },
            "outputs": [],
            "source": [
                "# # Automatically restart kernel after installs so that your environment can access the new packages\n",
                "# import IPython\n",
                "\n",
                "# app = IPython.Application.instance()\n",
                "# app.kernel.do_shutdown(True)"
            ]
        },
        {
            "cell_type": "markdown",
            "metadata": {},
            "source": [
                "## Before you begin"
            ]
        },
        {
            "cell_type": "markdown",
            "metadata": {},
            "source": [
                "* [Enable the Cloud SQL Admin API.](https://console.cloud.google.com/apis?_ga=2.123554824.2062268965.1707700487-2088871159.1707257687)\n",
                "* [Create a Cloud SQL instance.](https://cloud.google.com/sql/docs/mysql/connect-instance-auth-proxy#create-instance)\n",
                "* [Add a IAM User to the database.](https://cloud.google.com/sql/docs/mysql/add-manage-iam-users#creating-a-database-user)"
            ]
        },
        {
            "cell_type": "markdown",
            "metadata": {},
            "source": [
                "#### Set your project ID\n",
                "\n",
                "If you don't know your project ID, try the following:\n",
                "* Run `gcloud config list`.\n",
                "* Run `gcloud projects list`.\n",
                "* See the support page: [Locate the project ID](https://support.google.com/googleapi/answer/7014113)."
            ]
        },
        {
            "cell_type": "code",
            "execution_count": null,
            "metadata": {},
            "outputs": [],
            "source": [
                "# @title Project { display-mode: \"form\" }\n",
                "PROJECT_ID = \"\"  # @param {type:\"string\"}\n",
                "\n",
                "# Set the project id\n",
                "! gcloud config set project {PROJECT_ID}"
            ]
        },
        {
            "cell_type": "markdown",
            "metadata": {},
            "source": [
                "#### Set database values\n",
                "\n",
                "Find your database values, in the [Cloud SQL Instances page](https://console.cloud.google.com/sql?_ga=2.223735448.2062268965.1707700487-2088871159.1707257687)."
            ]
        },
        {
            "cell_type": "code",
            "execution_count": null,
            "metadata": {},
            "outputs": [],
            "source": [
                "# @title Dataset and Table { display-mode: \"form\" }\n",
                "REGION = \"my_langchain_dataset\"  # @param {type: \"string\"}\n",
                "INSTANCE_ID = \"langchain-instance\" # @param {type: \"string\"}\n",
                "DATABASE_ID = \"vectorstore\" # @param {type: \"string\"}\n",
                "TABLE_NAME = \"doc_and_vectors\"  # @param {type: \"string\"}"
            ]
        },
        {
            "cell_type": "markdown",
            "metadata": {},
            "source": [
                "### Authenticating your notebook environment\n",
                "\n",
                "- If you are using **Colab** to run this notebook, uncomment the cell below and continue.\n",
                "- If you are using **Vertex AI Workbench**, check out the setup instructions [here](https://github.com/GoogleCloudPlatform/generative-ai/tree/main/setup-env)."
            ]
        },
        {
            "cell_type": "code",
            "execution_count": null,
            "metadata": {},
            "outputs": [],
            "source": [
                "from google.colab import auth as google_auth\n",
                "\n",
                "google_auth.authenticate_user()"
            ]
        },
        {
            "cell_type": "markdown",
            "metadata": {
                "id": "AD3yG49BdLlr"
            },
            "source": [
                "## Demo: CloudSQLVectorStore"
            ]
        },
        {
            "cell_type": "markdown",
            "metadata": {},
            "source": [
                "### Create an embedding class instance\n",
                "\n",
                "You may need to enable Vertex AI API in your project by running\n",
                "`gcloud services enable aiplatform.googleapis.com --project {PROJECT_ID}`\n",
                "(replace `{PROJECT_ID}` with the name of your project).\n",
                "\n",
                "You can use any [LangChain embeddings model](https://python.langchain.com/docs/integrations/text_embedding/)."
            ]
        },
        {
            "cell_type": "code",
            "execution_count": null,
            "metadata": {
                "colab": {
                    "base_uri": "https://localhost:8080/"
                },
                "id": "Vb2RJocV9_LQ",
                "outputId": "37f5dc74-2512-47b2-c135-f34c10afdcf4"
            },
            "outputs": [],
            "source": [
                "from langchain_google_vertexai import VertexAIEmbeddings\n",
                "\n",
                "embedding = VertexAIEmbeddings(\n",
                "    model_name=\"textembedding-gecko@latest\", project=PROJECT_ID\n",
                ")"
            ]
        },
        {
            "cell_type": "markdown",
            "metadata": {
                "id": "D9Xs2qhm6X56"
            },
            "source": [
                "### Create PostgreSQLEngine to connect to the database"
            ]
        },
        {
            "cell_type": "code",
            "execution_count": null,
            "metadata": {
                "id": "avlyHEMn6gzU"
            },
            "outputs": [],
            "source": [
                "from langchain_google_cloud_sql_pg import PostgreSQLEngine\n",
                "# ClouSQLVectorStore requires an engine created using the PostgreSQLEngine class\n",
                "engine = PostgreSQLEngine.from_instance(\n",
                "    region=REGION, instance=INSTANCE_ID, database=DB_NAME\n",
                ")"
            ]
        },
        {
            "cell_type": "markdown",
            "metadata": {
                "id": "e1tl0aNx7SWy"
            },
            "source": [
                "### Option A. Create table and initialize CloudSQLVectorStore"
            ]
        },
        {
            "cell_type": "code",
            "execution_count": null,
            "metadata": {
                "id": "z-AZyzAQ7bsf"
            },
            "outputs": [],
            "source": [
                "from langchain_google_cloud_sql_pg import CloudSQLVectorStore\n",
                "\n",
                "# Create a table\n",
                "engine.init_vectorstore_table(\n",
                "    table_name=TABLE_NAME,\n",
                "    vector_size=768, # VertexAI model: textembedding-gecko@latest\n",
                ")\n",
                "# Init vectorstore\n",
                "store = CloudSQLVectorStore(\n",
                "    engine=engine, table_name=TABLE_NAME, embedding_service=embedding\n",
                ")"
            ]
        },
        {
            "cell_type": "markdown",
            "metadata": {},
            "source": [
                "### Option B. Create a custom table"
            ]
        },
        {
            "cell_type": "code",
            "execution_count": null,
            "metadata": {},
            "outputs": [],
            "source": [
                "from langchain_google_cloud_sql_pg import Column\n",
                "\n",
                "engine.init_vectorstore_table(\n",
                "    table_name=TABLE_NAME,\n",
                "    vector_size=768, # VertexAI model: textembedding-gecko@latest\n",
                "    id_column=\"uuid\",\n",
                "    content_column=\"documents\",\n",
                "    embedding_column=\"vectors\",\n",
                "    metadata_columns=[\n",
                "        Column(\"page\", \"INTEGER\"),\n",
                "        Column(\"source\", \"TEXT\")\n",
                "    ],\n",
                ")"
            ]
        },
        {
            "cell_type": "markdown",
            "metadata": {},
            "source": [
                "### Option C. Reconnect to a Vector Store"
            ]
        },
        {
            "cell_type": "code",
            "execution_count": null,
            "metadata": {},
            "outputs": [],
            "source": [
                "from langchain_google_cloud_sql_pg import CloudSQLVectorStore\n",
                "\n",
                "# Creating a basic CloudSQLVectorStore object\n",
                "store = CloudSQLVectorStore(\n",
                "    engine=engine,\n",
                "    table_name=TABLE_NAME,\n",
                "    embedding_service=embedding,\n",
                "    id_column=\"myid\"\n",
                "    content_column=\"my\",\n",
                "    embedding_column=\"vectors\",\n",
                "    metadata_columns=[\"page\", \"source\"], # Add custom metadata columns\n",
                ")"
            ]
        },
        {
            "cell_type": "markdown",
            "metadata": {},
            "source": [
                "### Add texts"
            ]
        },
        {
            "cell_type": "code",
            "execution_count": null,
            "metadata": {},
            "outputs": [],
            "source": [
                "import uuid\n",
                "\n",
                "all_texts = [\"Apples and oranges\", \"Cars and airplanes\", \"Pineapple\", \"Train\", \"Banana\"]\n",
                "metadatas = [{\"len\": len(t)} for t in all_texts]\n",
                "ids = [ str(uuid.uuid4()) for _ in all_texts]\n",
                "\n",
                "store.add_texts(all_texts, metadatas=metadatas, ids=ids)"
            ]
        },
        {
            "cell_type": "markdown",
            "metadata": {},
            "source": [
                "### Delete texts"
            ]
        },
        {
            "cell_type": "code",
            "execution_count": null,
            "metadata": {},
            "outputs": [],
            "source": [
                "store.delete([ids[1]])"
            ]
        },
        {
            "cell_type": "markdown",
            "metadata": {},
            "source": [
                "### Search for documents"
            ]
        },
        {
            "cell_type": "code",
            "execution_count": null,
            "metadata": {},
            "outputs": [],
            "source": [
                "query = \"I'd like a fruit.\"\n",
                "docs = store.similarity_search(query)\n",
                "print(docs)"
            ]
        },
        {
            "cell_type": "markdown",
            "metadata": {},
            "source": [
                "### Search for documents by vector"
            ]
        },
        {
            "cell_type": "code",
            "execution_count": null,
            "metadata": {},
            "outputs": [],
            "source": [
                "query_vector = embedding.embed_query(query)\n",
                "docs = store.similarity_search_by_vector(query_vector, k=2)\n",
                "print(docs)"
            ]
        },
        {
            "cell_type": "markdown",
            "metadata": {},
            "source": [
                "### Search for documents with metadata filter"
            ]
        },
        {
            "cell_type": "code",
            "execution_count": null,
            "metadata": {},
            "outputs": [],
            "source": [
                "# This should only return \"Banana\" document.\n",
                "docs = store.similarity_search_by_vector(query_vector, filter=\"len >= 6\")\n",
                "print(docs)"
            ]
        },
        {
            "cell_type": "markdown",
            "metadata": {},
            "source": [
                "## Add a Index"
            ]
        },
        {
            "cell_type": "code",
            "execution_count": null,
            "metadata": {},
            "outputs": [],
            "source": [
                "index = IVFFlatIndex()\n",
                "store.apply_vector_index(index)"
            ]
        },
        {
            "cell_type": "markdown",
            "metadata": {},
            "source": [
                "### Re-index"
            ]
        },
        {
            "cell_type": "code",
            "execution_count": null,
            "metadata": {},
            "outputs": [],
            "source": [
                "store.reindex() # Re-index using default index name"
            ]
        },
        {
            "cell_type": "markdown",
            "metadata": {},
            "source": [
                "### Remove an index"
            ]
        },
        {
            "cell_type": "code",
            "execution_count": null,
            "metadata": {},
            "outputs": [],
            "source": [
                "store.drop_index()"
            ]
        }
    ],
    "metadata": {
        "colab": {
            "provenance": [],
            "toc_visible": true
        },
        "kernelspec": {
            "display_name": "Python 3",
            "name": "python3"
        },
        "language_info": {
            "codemirror_mode": {
                "name": "ipython",
                "version": 3
            },
            "file_extension": ".py",
            "mimetype": "text/x-python",
            "name": "python",
            "nbconvert_exporter": "python",
            "pygments_lexer": "ipython3",
            "version": "3.11.5"
        }
    },
    "nbformat": 4,
    "nbformat_minor": 0
}
